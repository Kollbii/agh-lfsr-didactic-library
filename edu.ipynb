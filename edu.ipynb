{
 "cells": [
  {
   "cell_type": "markdown",
   "metadata": {},
   "source": [
    "# _Work smart! Use what was developed before._\n",
    "\n",
    "Potencjał, możliwości i rozwinięcie biblioteki *pylfsr*. Od postawy o rejestrach przesuwnych liniowych, przykłady i wykorzystanie do rejestrów nielinowych.\n"
   ]
  },
  {
   "cell_type": "markdown",
   "metadata": {},
   "source": [
    "# Wprowadzenie\n",
    "\n",
    "Linear-feedback shift register (LFSR)  \n",
    "Rejestr przesuwający z liniowym sprzężeniem zwrotnym  \n",
    "Rejestr przesuwający, którego bit wejściowy jest funkcją liniową jego poprzedniego stanu  \n",
    "\n",
    "Na zdjęciach poniżej można zobaczyć jak dla 5bitowego rejestru xorowane są 4 wartości w nową wartość, która staje się bitem początkowym.\n",
    "\n",
    "![State1](assets/l1.png \"State 1\")\n",
    "![State2](assets/l2.png \"State 2\")\n",
    "\n",
    "Przykładowa inicjalizacja obiektu, z przejściem do kolejnego stanu.\n",
    "Należy zdefiniować stan początkowy dla rejestru oraz które wartości rejestru będą uwzględniane w sprzężeniu zwrotnym (_Feedback polynomial_)\n",
    "Przy inicjalizacji _Output bit_ i _Feedback bit_ nie istnieją dlatego mają wartość -1.\n",
    "\n",
    "Obiekt rejestru przechowuje wszystkie potrzebne informacje. Między innymi o bicie wychodzącym, bicie sprzężającym i aktualnym stanie rejestru.\n"
   ]
  },
  {
   "cell_type": "code",
   "execution_count": 15,
   "metadata": {},
   "outputs": [
    {
     "name": "stdout",
     "output_type": "stream",
     "text": [
      "5 bit LFSR with feedback polynomial  x^4 + x^3 + x^2 + x^1 + 1\n",
      "Expected Period (if polynomial is primitive) =  31\n",
      "Current :\n",
      " State        :  [1 0 1 0 1]\n",
      " Count        :  0\n",
      " Output bit   :  -1\n",
      " feedback bit :  -1\n",
      "S:  [1 0 1 0 1]\n",
      "S:  [0 1 0 1 0]\n"
     ]
    },
    {
     "data": {
      "text/plain": [
       "0"
      ]
     },
     "execution_count": 15,
     "metadata": {},
     "output_type": "execute_result"
    }
   ],
   "source": [
    "from pylfsr import LFSR\n",
    "\n",
    "state=[1,0,1,0,1]\n",
    "polynomial=[4,3,2,1]\n",
    "L=LFSR(initstate=state, fpoly=polynomial, verbose=True)\n",
    "\n",
    "L.info()\n",
    "\n",
    "L.next()\n",
    "L.next()\n"
   ]
  },
  {
   "cell_type": "markdown",
   "metadata": {},
   "source": [
    "\n",
    "Rejestr przesuwny stosuje się w celu genereowania pseudolosowych liczb.   \n",
    "\n",
    "Interesuje nas okresowość rejestrów. Najlepiej jak jest maksymalny.   \n",
    "Maksymalny okres dla danego rejestru to taki, gdzie stowarzyszony z nim wielomian jest wielomianem pierwotnym.   \n",
    "\n",
    "Ilość wielomianów pierwotnych dla zadanej długości można obliczyć z funkcji Eulera.   \n",
    "Lub wyciągnąć ją z odpowiedniej funkcji w bibliotece :)    \n",
    "Natomiast w internecie można znaleźć rozpisaną listę wielomianów pierwotnych do 32 potęgi.  \n",
    "[partow.net/programming/polynomials](https://www.partow.net/programming/polynomials/index.html)  \n",
    "\n",
    "Zgodnie z algebrą takie wielomiany gwarantują maksymalny okres przez co są najlepszym rozwiązaniem w rejestrach przesuwnych.  \n",
    "Funkcja _get_fpolyList()_ zawiera listę wielomianów.\n"
   ]
  },
  {
   "cell_type": "code",
   "execution_count": 23,
   "metadata": {},
   "outputs": [
    {
     "name": "stdout",
     "output_type": "stream",
     "text": [
      "[[7, 1], [7, 3], [7, 3, 2, 1], [7, 4, 3, 2], [7, 5, 4, 3, 2, 1], [7, 6, 3, 1], [7, 6, 4, 2], [7, 6, 5, 2], [7, 6, 5, 4, 2, 1]]\n"
     ]
    }
   ],
   "source": [
    "# Lista wszystkich możliwych wielomianów pierwotnych do 32 potęgi\n",
    "\n",
    "# fpolyDict = L.get_fpolyList()\n",
    "# print(fpolyDict)\n",
    "\n",
    "# Lista możliwych wielomianów pierwotnych dla danej potęgi\n",
    "fpolys = L.get_fpolyList(m=7)\n",
    "print(fpolys)"
   ]
  },
  {
   "cell_type": "markdown",
   "metadata": {},
   "source": [
    "Jak działa rejestr przesuwny w akcji. Poniżej został zdefiniowany prosty 4 bitowy rejestr. Każdy stan jest wypisywany razem z aktualnym bitem wyjściowym oraz zwrotnym.   \n",
    "Na sam koniec jest sprawdzona proporcja zer i jedynek. Jest bliska 50% - tak jak powinno być."
   ]
  },
  {
   "cell_type": "code",
   "execution_count": 49,
   "metadata": {},
   "outputs": [
    {
     "name": "stdout",
     "output_type": "stream",
     "text": [
      "[[4, 1]]\n",
      "feedback bit -1 | S:  [1 1 1 0]\n",
      "feedback bit 1 | S:  [1 1 1 1]\n",
      "feedback bit 0 | S:  [0 1 1 1]\n",
      "feedback bit 1 | S:  [1 0 1 1]\n",
      "feedback bit 0 | S:  [0 1 0 1]\n",
      "feedback bit 1 | S:  [1 0 1 0]\n",
      "feedback bit 1 | S:  [1 1 0 1]\n",
      "feedback bit 0 | S:  [0 1 1 0]\n",
      "feedback bit 0 | S:  [0 0 1 1]\n",
      "feedback bit 1 | S:  [1 0 0 1]\n",
      "feedback bit 0 | S:  [0 1 0 0]\n",
      "feedback bit 0 | S:  [0 0 1 0]\n",
      "feedback bit 0 | S:  [0 0 0 1]\n",
      "feedback bit 1 | S:  [1 0 0 0]\n",
      "feedback bit 1 | S:  [1 1 0 0]\n",
      "feedback bit 1 | output bits 011110101100100\n",
      "number of 0s:  7\n",
      "number of 1s:  8\n"
     ]
    }
   ],
   "source": [
    "state=[1,1,1,0]\n",
    "# Sprawdzenie wielomianów pierwotnych dla m=4\n",
    "# print(L.get_fpolyList(m=4)) # [4,1]\n",
    "\n",
    "polynomial=[4,1]\n",
    "L=LFSR(initstate=state, fpoly=polynomial, verbose=True)\n",
    "\n",
    "out=''\n",
    "\n",
    "print(f'feedback bit {L.feedbackbit} | ', end='')\n",
    "for _ in range(2**(len(state)) - 1):\n",
    "    L.next()\n",
    "    print(f'feedback bit {L.feedbackbit} | ', end='')\n",
    "    out += ''.join(str(L.outbit))\n",
    "\n",
    "print('\\noutput bits', out)\n",
    "\n",
    "print('number of 0s: ', out.count('0'))\n",
    "print('number of 1s: ', out.count('1'))"
   ]
  },
  {
   "cell_type": "markdown",
   "metadata": {},
   "source": [
    "Źródła:\n",
    "https://lfsr.readthedocs.io/en/latest/LFSR_Examples.html#installation\n",
    "https://www.partow.net/programming/polynomials/index.html\n",
    "https://pl.wikipedia.org/wiki/Rejestr_przesuwaj%C4%85cy_z_liniowym_sprz%C4%99%C5%BCeniem_zwrotnym\n",
    "https://pl.wikipedia.org/wiki/Szyfr_strumieniowy"
   ]
  }
 ],
 "metadata": {
  "interpreter": {
   "hash": "916dbcbb3f70747c44a77c7bcd40155683ae19c65e1c03b4aa3499c5328201f1"
  },
  "kernelspec": {
   "display_name": "Python 3.10.4 64-bit",
   "language": "python",
   "name": "python3"
  },
  "language_info": {
   "codemirror_mode": {
    "name": "ipython",
    "version": 3
   },
   "file_extension": ".py",
   "mimetype": "text/x-python",
   "name": "python",
   "nbconvert_exporter": "python",
   "pygments_lexer": "ipython3",
   "version": "3.10.4"
  },
  "orig_nbformat": 4
 },
 "nbformat": 4,
 "nbformat_minor": 2
}
